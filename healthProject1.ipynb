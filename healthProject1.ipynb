{
 "cells": [
  {
   "cell_type": "code",
   "execution_count": null,
   "metadata": {},
   "outputs": [],
   "source": [
    "import pandas as pd\n",
    "import numpy as np\n",
    "\n",
    "filepath = \"C:/Users/14344/Downloads/Fabricated_Health_Data.csv\"\n",
    "data = pd.read_csv(filepath)\n",
    "\n",
    "print(data.head(3))\n",
    "\n",
    "\n",
    "# Project Queries:\n",
    "# is there a link to chronic disease vs smoking, chronic disease vs exercise, chronic disease vs region\n"
   ]
  },
  {
   "cell_type": "code",
   "execution_count": null,
   "metadata": {},
   "outputs": [],
   "source": [
    "# Add a new row\n",
    "print(\"length of data: \", len(data)) # original is 100, I'll add a dupe row and then drop dupe row further into project\n",
    "print(\"The Last row was: \", data.loc[99]) # returns the last row\n",
    "data.loc[len(data)] = ['P001', 58, 'Female', np.NaN, 'Non-Smoker', 'Occasional', 'Yes', 'South' ]\n",
    "print(\"Now the last row is: \", data.loc[100])"
   ]
  },
  {
   "cell_type": "code",
   "execution_count": null,
   "metadata": {},
   "outputs": [],
   "source": [
    "# Check for missing values\n",
    "print(\"Missing values: \\n\", data.isnull().sum())\n",
    "\n",
    "# Basic statistics\n",
    "print(\"\\n\",data.describe())\n",
    "print(\"\\n\",data.info())\n",
    "\n",
    "# Distribution of categorical variables\n",
    "categorical_variables = data.select_dtypes([\"object\", \"category\"])\n",
    "print( 'Categorical columns are: \\n', categorical_variables.columns)\n",
    "\n",
    "\n",
    "age_bins = pd.cut(data['Age'],bins=range(0,100,10)) # create age groups for analysis #Use cut to segment and sort data values into bins. \n",
    "\n",
    "print(\"\\n The Age of the patients are \\n\",age_bins.value_counts().sort_index())\n",
    "print(\"\\n The Regions reported are \\n\",data['Region'].value_counts())\n",
    "print(\"\\n The Gender distribution of patients is \\n\",data['Gender'].value_counts())\n"
   ]
  },
  {
   "cell_type": "code",
   "execution_count": null,
   "metadata": {},
   "outputs": [],
   "source": [
    "# Check for duplicates\n",
    "print(\"Duplicate rows: \", data.duplicated().sum()) # data[data.duplicated()] will show the rows themselves\n",
    "\n",
    "# Remove duplicates if any\n",
    "data = data.drop_duplicates()\n",
    "\n",
    "# Example: Replace missing BMI values with the mean (if missing values existed)\n",
    "print(\"Total null cells in the BMI column is: \", data['BMI'].isnull().sum()) #checks if there are null values in BMI column\n",
    "\n",
    "if data[\"BMI\"].isnull().sum()>0:\n",
    "    data[\"BMI\"].fillna(data[\"BMI\"].mean(), inplace=True) # if you do this without inplace, no effect on the table \n",
    "\n",
    "# Check the last row, has it's null replaced with the average of BMIs  \n",
    "print(data.loc[100])\n",
    "\n"
   ]
  },
  {
   "cell_type": "code",
   "execution_count": null,
   "metadata": {},
   "outputs": [],
   "source": [
    "import sqlite3\n",
    "import pandas as pd\n",
    "\n",
    "# Create a SQLite database in memory and load the data\n",
    "#initiate a sql connection strapped to memory ( temp)\n",
    "conn = sqlite3.connect(\":memory:\") \n",
    "\n",
    "# change the dataframe into a sql table and name it health data, use the connection created above\n",
    "data.to_sql( name= 'health_data', con = conn, if_exists='replace', index = False) \n",
    "\n",
    "\n",
    "# Example Query: Average BMI by Region\n",
    "# write the query\n",
    "query_avg_bmi_region = \"\"\"\n",
    "SELECT Region, ROUND(AVG(BMI),2) as Average_BMI\n",
    "FROM health_data\n",
    "GROUP BY Region\n",
    "ORDER BY Average_BMI DESC\n",
    "\"\"\"\n",
    "\n",
    "# read the query\n",
    "avg_bmi = pd.read_sql_query(sql = query_avg_bmi_region, con = conn)\n",
    "print(avg_bmi)\n",
    "\n",
    "\n",
    "\n",
    "# Example Query: Percentage of Smokers by Region\n",
    "query_smokers_region = \"\"\"\n",
    "\n",
    "SELECT Region, \n",
    "    ROUND(SUM(IIF(Smoking_status = 'Smoker', 1, 0)) * 100.0 / COUNT(*), 2) AS Smoking_Percentage \n",
    "FROM health_data \n",
    "GROUP BY Region \n",
    "ORDER BY Smoking_Percentage DESC;\n",
    "\"\"\"\n",
    "\n",
    "smokers_percentage= pd.read_sql_query(query_smokers_region, con=conn)\n",
    "print(smokers_percentage)\n"
   ]
  },
  {
   "cell_type": "code",
   "execution_count": null,
   "metadata": {},
   "outputs": [],
   "source": [
    "import matplotlib.pyplot as plt\n",
    "\n",
    "# Bar chart: Average BMI by Region\n",
    "print(avg_bmi)\n",
    "plt.bar(avg_bmi['Region'], avg_bmi['Average_BMI'], color = 'skyblue')\n",
    "plt.title('Average BMI by Region')\n",
    "plt.xlabel('Region')\n",
    "plt.ylabel('Average BMI')\n",
    "plt.show() \n",
    "\n",
    "\n",
    "# Bar chart: Smoking Percentage by Region\n",
    "print(smokers_percentage)\n",
    "\n",
    "plt.bar(smokers_percentage['Region'], smokers_percentage['Smoking_Percentage'], color= 'salmon')\n",
    "plt.title(\"Smoking Percentage by Region\")\n",
    "plt.xlabel(\"Region\")\n",
    "plt.ylabel(\"Percentage of Smokers\")\n",
    "plt.show()\n"
   ]
  }
 ],
 "metadata": {
  "kernelspec": {
   "display_name": "Python 3",
   "language": "python",
   "name": "python3"
  },
  "language_info": {
   "codemirror_mode": {
    "name": "ipython",
    "version": 3
   },
   "file_extension": ".py",
   "mimetype": "text/x-python",
   "name": "python",
   "nbconvert_exporter": "python",
   "pygments_lexer": "ipython3",
   "version": "3.10.11"
  }
 },
 "nbformat": 4,
 "nbformat_minor": 2
}
